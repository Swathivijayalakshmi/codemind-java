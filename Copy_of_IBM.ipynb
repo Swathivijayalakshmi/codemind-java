{
  "nbformat": 4,
  "nbformat_minor": 0,
  "metadata": {
    "colab": {
      "provenance": [],
      "include_colab_link": true
    },
    "kernelspec": {
      "name": "python3",
      "display_name": "Python 3"
    },
    "language_info": {
      "name": "python"
    }
  },
  "cells": [
    {
      "cell_type": "markdown",
      "metadata": {
        "id": "view-in-github",
        "colab_type": "text"
      },
      "source": [
        "<a href=\"https://colab.research.google.com/github/Swathivijayalakshmi/codemind-java/blob/main/Copy_of_IBM.ipynb\" target=\"_parent\"><img src=\"https://colab.research.google.com/assets/colab-badge.svg\" alt=\"Open In Colab\"/></a>"
      ]
    },
    {
      "cell_type": "code",
      "execution_count": null,
      "metadata": {
        "id": "RGfAbt7VYeVl"
      },
      "outputs": [],
      "source": [
        "import warnings\n",
        "warnings.filterwarnings('ignore')"
      ]
    },
    {
      "cell_type": "code",
      "source": [
        "import numpy as np\n",
        "import pandas as pd\n",
        "import seaborn as sns\n",
        "import matplotlib.pyplot as plt\n",
        "import plotly.express as px\n",
        "from google.colab import drive\n",
        "drive.mount('/content/drive')"
      ],
      "metadata": {
        "colab": {
          "base_uri": "https://localhost:8080/"
        },
        "id": "CLyrfvkZbEQ2",
        "outputId": "bf8b1e37-8556-4f43-a870-5f2780edf82a"
      },
      "execution_count": null,
      "outputs": [
        {
          "output_type": "stream",
          "name": "stdout",
          "text": [
            "Mounted at /content/drive\n"
          ]
        }
      ]
    },
    {
      "cell_type": "code",
      "source": [
        "import warnings\n",
        "warnings.filterwarnings('ignore')"
      ],
      "metadata": {
        "id": "F66r0AiwbWJ9"
      },
      "execution_count": null,
      "outputs": []
    },
    {
      "cell_type": "code",
      "source": [
        "import numpy as np\n",
        "import pandas as pd\n",
        "import seaborn as sns\n",
        "import matplotlib.pyplot as plt\n",
        "import plotly.express as px\n",
        "from google.colab import drive\n",
        "drive.mount('/content/drive')"
      ],
      "metadata": {
        "colab": {
          "base_uri": "https://localhost:8080/"
        },
        "id": "5TMzDmWIch_W",
        "outputId": "13d74f73-35ff-4a15-c15a-eb6be2e5497d"
      },
      "execution_count": null,
      "outputs": [
        {
          "output_type": "stream",
          "name": "stdout",
          "text": [
            "Drive already mounted at /content/drive; to attempt to forcibly remount, call drive.mount(\"/content/drive\", force_remount=True).\n"
          ]
        }
      ]
    },
    {
      "cell_type": "code",
      "source": [
        "pd.set_option('display.max_columns',None)\n",
        "burnoutDf=pd.read_csv('/content/train.csv')\n",
        "burnoutDf"
      ],
      "metadata": {
        "id": "pQ-wzrZocpa-"
      },
      "execution_count": null,
      "outputs": []
    },
    {
      "cell_type": "code",
      "source": [
        "burnoutDf.shape"
      ],
      "metadata": {
        "id": "Q08xbITddi2J"
      },
      "execution_count": null,
      "outputs": []
    },
    {
      "cell_type": "code",
      "source": [
        "burnoutDf.info()"
      ],
      "metadata": {
        "id": "k4XFSSBmdoNJ"
      },
      "execution_count": null,
      "outputs": []
    },
    {
      "cell_type": "code",
      "source": [
        "burnoutDf.head"
      ],
      "metadata": {
        "id": "MC1Ex5QeduOR"
      },
      "execution_count": null,
      "outputs": []
    },
    {
      "cell_type": "code",
      "source": [
        "burnoutDf.isna().sum()"
      ],
      "metadata": {
        "id": "dwueZUTOdyvT"
      },
      "execution_count": null,
      "outputs": []
    },
    {
      "cell_type": "code",
      "source": [
        "burnoutDf.describe"
      ],
      "metadata": {
        "id": "c8MhehPed5TC"
      },
      "execution_count": null,
      "outputs": []
    },
    {
      "cell_type": "code",
      "source": [
        "for i,col in enumerate(burnoutDf.columns):\n",
        "  print(f\"\\n\\n{burnoutDf[col].unique()}\")\n",
        "  print(f\"\\n{burnoutDf[col].value_counts()}\\n\\n\")"
      ],
      "metadata": {
        "id": "3qAJ-OwEd-po"
      },
      "execution_count": null,
      "outputs": []
    },
    {
      "cell_type": "code",
      "source": [
        "burnoutDf=burnoutDf.drop(['Employee ID'],axis=1)"
      ],
      "metadata": {
        "id": "52UjPxVleEir"
      },
      "execution_count": null,
      "outputs": []
    },
    {
      "cell_type": "code",
      "source": [
        "intFloatburnoutDf=burnoutDf.select_dtypes([np.int,np.float])\n",
        "for i,col in enumerate(intFloatburnoutDf.columns):\n",
        "  if(intFloatburnoutDf[col].skew()>=0.1):\n",
        "    print(\"\\n\",col,\"feature is positively skewed and value is:\",intFloatburnoutDf[col].skew())\n",
        "  elif(intFloatburnoutDf[col].skew()<=-0.1):\n",
        "    print(\"\\n\",col,\"featute is negatively skewed and value is:\",intFloatburnoutDf[col].skew())\n",
        "  else:\n",
        "      print(\"\\n\",col,\"feature is normally Distributed and value is:\",intFloatburnoutDf[col].skew())"
      ],
      "metadata": {
        "id": "8dpumkGTeJdK"
      },
      "execution_count": null,
      "outputs": []
    },
    {
      "cell_type": "code",
      "source": [
        "burnoutDf['Resource Allocation'].fillna(burnoutDf['Resource Allocation'].mean(),inplace=True)\n",
        "burnoutDf['Mental Fatigue Score'].fillna(burnoutDf['Mental Fatigue Score'].mean(),inplace=True)\n",
        "burnoutDf['Burn Rate'].fillna(burnoutDf['Burn Rate'].mean(),inplace=True)"
      ],
      "metadata": {
        "id": "KxlyBKtskPHj"
      },
      "execution_count": null,
      "outputs": []
    },
    {
      "cell_type": "code",
      "source": [
        "burnoutDf.isna().sum()"
      ],
      "metadata": {
        "id": "IDxaRZdAkU15"
      },
      "execution_count": null,
      "outputs": []
    },
    {
      "cell_type": "code",
      "source": [
        "burnoutDf.corr()"
      ],
      "metadata": {
        "id": "F9ZmxeBTkZaU"
      },
      "execution_count": null,
      "outputs": []
    },
    {
      "cell_type": "code",
      "source": [
        "Corr=burnoutDf.corr()\n",
        "sns.set(rc={'figure.figsize':(14,12)})\n",
        "fig=px.imshow(Corr,text_auto=True,aspect=\"auto\")\n",
        "fig.show()"
      ],
      "metadata": {
        "id": "429YQ4bZnYDJ"
      },
      "execution_count": null,
      "outputs": []
    },
    {
      "cell_type": "code",
      "source": [
        "plt.figure(figsize=(10,8))\n",
        "sns.countplot(x=\"WFH Setup Available\",data=burnoutDf,palette=\"dark:salmon_r\")\n",
        "plt.title(\"Plot Distribution of WFH_Setup_Available\")\n",
        "plt.show()"
      ],
      "metadata": {
        "id": "4qHDDHkOnauO"
      },
      "execution_count": null,
      "outputs": []
    },
    {
      "cell_type": "code",
      "source": [
        "plt.figure(figsize=(10,18))\n",
        "sns.countplot(x=\"Gender\",data=burnoutDf,palette=\"magma\")\n",
        "plt.title(\"Plot Distribution of Gender\")\n",
        "plt.show()"
      ],
      "metadata": {
        "id": "nx5tDm3wkfcp"
      },
      "execution_count": null,
      "outputs": []
    },
    {
      "cell_type": "code",
      "source": [],
      "metadata": {
        "id": "JHa2RLITmqK5"
      },
      "execution_count": null,
      "outputs": []
    },
    {
      "cell_type": "code",
      "source": [
        "plt.figure(figsize=(10,18))\n",
        "sns.countplot(x=\"Company Type\",data=burnoutDf,palette=\"Spectral\")\n",
        "plt.title(\"Plot Distribution of company Type\")\n",
        "plt.show()"
      ],
      "metadata": {
        "id": "8o2T3BMLkjr1"
      },
      "execution_count": null,
      "outputs": []
    },
    {
      "cell_type": "code",
      "source": [
        "burn_st=burnoutDf.loc[:,'Date of Joining':'Burn Rate']\n",
        "burn_st=burn_st.select_dtypes([int,float])\n",
        "for i,col in enumerate(burn_st.columns):\n",
        "  fig=px.histogram(burn_st,x=col,title=\"Plot Distribution of \"+col,color_discrete_sequence=['indianred'])\n",
        "  fig.update_layout(bargap=0.2)\n",
        "fig.show()"
      ],
      "metadata": {
        "id": "wXe0jCQ0krOe"
      },
      "execution_count": null,
      "outputs": []
    },
    {
      "cell_type": "code",
      "source": [
        "fig=px.line(burnoutDf,y=\"Burn Rate\",color=\"Designation\",title=\"Burn rate on the basis of Designation\",color_discrete_sequence=px.colors.qualitative.Pastel1)\n",
        "fig.update_layout(bargap=0.1)\n",
        "fig.show()"
      ],
      "metadata": {
        "id": "ycI5uvUDk6D0"
      },
      "execution_count": null,
      "outputs": []
    },
    {
      "cell_type": "code",
      "source": [
        "fig=px.line(burnoutDf,y=\"Mental Fatigue Score\",color=\"Designation\",title=\"Mental fatigue vs Designation\",color_discrete_sequence=px.colors.qualitative.Pastel1)\n",
        "fig.update_layout(bargap=0.2)\n",
        "fig.show()"
      ],
      "metadata": {
        "id": "qfOuVmY_k8rO"
      },
      "execution_count": null,
      "outputs": []
    },
    {
      "cell_type": "code",
      "source": [
        "sns.relplot(\n",
        "    data=burnoutDf,x=\"Designation\",y=\"Mental Fatigue Score\",col=\"Company Type\",\n",
        "    hue=\"Company Type\",size=\"Burn Rate\",style=\"Gender\",\n",
        "    palette=[\"g\",\"r\"],sizes=(50,200)\n",
        ")"
      ],
      "metadata": {
        "id": "nVpnzppRlB-X"
      },
      "execution_count": null,
      "outputs": []
    },
    {
      "cell_type": "code",
      "source": [
        "from sklearn import preprocessing\n",
        "Label_encode=preprocessing.LabelEncoder()"
      ],
      "metadata": {
        "id": "Gij0RHJPlIBe"
      },
      "execution_count": null,
      "outputs": []
    },
    {
      "cell_type": "code",
      "source": [
        "burnoutDf['GenderLabel']=Label_encode.fit_transform(burnoutDf['Gender'].values)\n",
        "burnoutDf['Company_TypeLabel']=Label_encode.fit_transform(burnoutDf['Company Type'].values)\n",
        "burnoutDf['WFH_Setup_AvailableLabel']=Label_encode.fit_transform(burnoutDf['WFH Setup Available'].values)"
      ],
      "metadata": {
        "id": "lbv3_85XlJ_D"
      },
      "execution_count": null,
      "outputs": []
    },
    {
      "cell_type": "code",
      "source": [
        "gn=burnoutDf.groupby('Gender')\n",
        "gn=gn['GenderLabel']\n",
        "gn.first()"
      ],
      "metadata": {
        "id": "e6Pz28j8lPG6"
      },
      "execution_count": null,
      "outputs": []
    },
    {
      "cell_type": "code",
      "source": [
        "ct=burnoutDf.groupby('Company Type')\n",
        "ct=ct['Company_TypeLabel']\n",
        "ct.first()"
      ],
      "metadata": {
        "id": "TCVVHPCWlRfu"
      },
      "execution_count": null,
      "outputs": []
    },
    {
      "cell_type": "code",
      "source": [
        "wsa=burnoutDf.groupby('WFH Setup Available')\n",
        "wsa=wsa['WFH_Setup_AvailableLabel']\n",
        "wsa.first()"
      ],
      "metadata": {
        "id": "1wJTD09ClW4O"
      },
      "execution_count": null,
      "outputs": []
    },
    {
      "cell_type": "code",
      "source": [
        "burnoutDf.tail(10)"
      ],
      "metadata": {
        "id": "Iy7lmYSnlalD"
      },
      "execution_count": null,
      "outputs": []
    },
    {
      "cell_type": "code",
      "source": [
        "Columns=['Designation','Resource Allocation','Mental Fatigue Score',\n",
        "         'GenderLabel','Company_TypeLabel','WFH_Setup_AvailableLabel']\n",
        "x=burnoutDf[Columns]\n",
        "y=burnoutDf['Burn Rate']"
      ],
      "metadata": {
        "id": "cTE-e35Zlcrs"
      },
      "execution_count": null,
      "outputs": []
    },
    {
      "cell_type": "code",
      "source": [
        "print(x)"
      ],
      "metadata": {
        "id": "Uzw0m8sBlmZU"
      },
      "execution_count": null,
      "outputs": []
    },
    {
      "cell_type": "code",
      "source": [
        "print(y)"
      ],
      "metadata": {
        "id": "U0A5_IxIlvhz"
      },
      "execution_count": null,
      "outputs": []
    },
    {
      "cell_type": "code",
      "source": [
        "from sklearn.decomposition import PCA\n",
        "pca=PCA(0.95)\n",
        "x_pca=pca.fit_transform(x)\n",
        "print(\"PCA shape of x is:\",x_pca.shape,\"and original shape is:\",x.shape)\n",
        "print(\"% of importance of selected features is:\",pca.explained_variance_ratio_)\n",
        "print(\"The number of features selected through PCA is:\",pca.n_components_)"
      ],
      "metadata": {
        "id": "HhINUUKLl0Dz"
      },
      "execution_count": null,
      "outputs": []
    },
    {
      "cell_type": "code",
      "source": [
        "from sklearn.model_selection import train_test_split\n",
        "x_train_pca,x_test,y_train,y_test=train_test_split(x_pca,y,test_size=0.25,random_state=10)"
      ],
      "metadata": {
        "id": "71dnT2gwl49s"
      },
      "execution_count": null,
      "outputs": []
    },
    {
      "cell_type": "code",
      "source": [
        "print(x_pca.shape,x_test.shape,y_train.shape,y_test.shape)"
      ],
      "metadata": {
        "id": "viNMS8QAl-TA"
      },
      "execution_count": null,
      "outputs": []
    },
    {
      "cell_type": "code",
      "source": [
        "from sklearn.metrics import r2_score"
      ],
      "metadata": {
        "id": "jYLPuvsNmA0g"
      },
      "execution_count": null,
      "outputs": []
    },
    {
      "cell_type": "code",
      "source": [
        "from sklearn.ensemble import RandomForestRegressor\n",
        "rf_model=RandomForestRegressor()\n",
        "rf_model.fit(x_train_pca,y_train)\n",
        "train_pred_rf=rf_model.predict(x_train_pca)\n",
        "train_r2=r2_score(y_train,train_pred_rf)\n",
        "test_pred_rf=rf_model.predict(x_test)\n",
        "test_r2=r2_score(y_test,test_pred_rf)\n",
        "print(\"Accuracy score of tarin data:\"+str(round(100*train_r2,4))+\"%\")\n",
        "print(\"Accuracy score of test data:\"+str(round(100*test_r2,4))+\"%\")"
      ],
      "metadata": {
        "id": "F9XaQJPwmIEf"
      },
      "execution_count": null,
      "outputs": []
    }
  ]
}